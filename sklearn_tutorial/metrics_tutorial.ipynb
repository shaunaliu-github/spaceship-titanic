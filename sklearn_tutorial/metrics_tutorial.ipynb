{
 "cells": [
  {
   "cell_type": "markdown",
   "id": "a3cbc517",
   "metadata": {},
   "source": [
    "https://calmcode.io/course/scikit-metrics/introduction\n",
    "\n",
    "oh gosh. Pandas\n",
    "\n"
   ]
  },
  {
   "cell_type": "code",
   "execution_count": null,
   "id": "6759fd62",
   "metadata": {
    "vscode": {
     "languageId": "plaintext"
    }
   },
   "outputs": [],
   "source": []
  }
 ],
 "metadata": {
  "language_info": {
   "name": "python"
  }
 },
 "nbformat": 4,
 "nbformat_minor": 5
}
