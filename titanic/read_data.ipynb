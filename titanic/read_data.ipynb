{
 "cells": [
  {
   "cell_type": "markdown",
   "id": "3c3ead9b",
   "metadata": {},
   "source": [
    "# Title\n",
    "We are attempting to solve this kaggle challenge: https://www.kaggle.com/competitions/titanic/data"
   ]
  },
  {
   "cell_type": "markdown",
   "id": "c13c3e08",
   "metadata": {},
   "source": [
    "### Imports and converting file to dataframe"
   ]
  },
  {
   "cell_type": "code",
   "execution_count": 29,
   "id": "926fa451",
   "metadata": {},
   "outputs": [],
   "source": [
    "import numpy as np\n",
    "import pandas as pd\n",
    "import matplotlib.pyplot as plt\n",
    "from sklearn.preprocessing import StandardScaler, OneHotEncoder\n"
   ]
  },
  {
   "cell_type": "code",
   "execution_count": 30,
   "id": "2576b66e",
   "metadata": {},
   "outputs": [],
   "source": [
    "from sklearn.model_selection import GridSearchCV\n",
    "from sklearn.neighbors import KNeighborsRegressor"
   ]
  },
  {
   "cell_type": "code",
   "execution_count": 34,
   "id": "b036dbf3",
   "metadata": {},
   "outputs": [
    {
     "name": "stdout",
     "output_type": "stream",
     "text": [
      "Survival rate: 0.3838383838383838\n",
      "The regular success rate should work fine\n",
      "data length 891 --> 183 if we dropna. Not a good idea.\n",
      "\n",
      "   PassengerId  Survived  Pclass  \\\n",
      "0            1         0       3   \n",
      "1            2         1       1   \n",
      "2            3         1       3   \n",
      "3            4         1       1   \n",
      "4            5         0       3   \n",
      "\n",
      "                                                Name     Sex   Age  SibSp  \\\n",
      "0                            Braund, Mr. Owen Harris    male  22.0      1   \n",
      "1  Cumings, Mrs. John Bradley (Florence Briggs Th...  female  38.0      1   \n",
      "2                             Heikkinen, Miss. Laina  female  26.0      0   \n",
      "3       Futrelle, Mrs. Jacques Heath (Lily May Peel)  female  35.0      1   \n",
      "4                           Allen, Mr. William Henry    male  35.0      0   \n",
      "\n",
      "   Parch            Ticket     Fare Cabin Embarked  \n",
      "0      0         A/5 21171   7.2500   NaN        S  \n",
      "1      0          PC 17599  71.2833   C85        C  \n",
      "2      0  STON/O2. 3101282   7.9250   NaN        S  \n",
      "3      0            113803  53.1000  C123        S  \n",
      "4      0            373450   8.0500   NaN        S  \n",
      "(891, 12)\n",
      "(418, 11)\n"
     ]
    }
   ],
   "source": [
    "\n",
    "train = pd.read_csv(\"train.csv\")\n",
    "test = pd.read_csv(\"test.csv\")\n",
    "\n",
    "count = 0\n",
    "for i in train[\"Survived\"]:\n",
    "    if i==1:\n",
    "        count +=1 \n",
    "\n",
    "print(\"Survival rate:\", count/len(train[\"Survived\"]))\n",
    "print(\"The regular success rate should work fine\")\n",
    "\n",
    "le = len(train)\n",
    "train_dropna = train.dropna()\n",
    "print(\"data length\", le, \"-->\", len(train_dropna), \"if we dropna. Not a good idea.\")\n",
    "print()\n",
    "print(train.head(5))\n",
    "print(train.shape)\n",
    "print(test.shape)"
   ]
  },
  {
   "cell_type": "markdown",
   "id": "e676abbc",
   "metadata": {},
   "source": [
    "### Cleaning the data \n",
    "annoying!! (sadface)\n",
    "\n",
    "I referred to https://www.kaggle.com/code/murtadhanajim/80-in-titanic-dataset-using-random-forests/notebook and used the mean / median as replacements for NaN"
   ]
  },
  {
   "cell_type": "code",
   "execution_count": 43,
   "id": "4a7f7910",
   "metadata": {},
   "outputs": [
    {
     "name": "stdout",
     "output_type": "stream",
     "text": [
      "   Pclass   Age  SibSp  Parch     Fare  Sex_f  Sex_m  Cabin_A  Cabin_B  \\\n",
      "0       3  22.0      1      0   7.2500  False   True    False    False   \n",
      "1       1  38.0      1      0  71.2833   True  False    False    False   \n",
      "2       3  26.0      0      0   7.9250   True  False    False    False   \n",
      "3       1  35.0      1      0  53.1000   True  False    False    False   \n",
      "4       3  35.0      0      0   8.0500  False   True    False    False   \n",
      "\n",
      "   Cabin_C  Cabin_D  Cabin_E  Cabin_F  Cabin_G  Cabin_T  Cabin_u  Embarked_C  \\\n",
      "0    False    False    False    False    False    False     True       False   \n",
      "1     True    False    False    False    False    False    False        True   \n",
      "2    False    False    False    False    False    False     True       False   \n",
      "3     True    False    False    False    False    False    False       False   \n",
      "4    False    False    False    False    False    False     True       False   \n",
      "\n",
      "   Embarked_Q  Embarked_S  Embarked_unknown  \n",
      "0       False        True             False  \n",
      "1       False       False             False  \n",
      "2       False        True             False  \n",
      "3       False        True             False  \n",
      "4       False        True             False  \n",
      "(891, 20)\n",
      "(418, 18)\n",
      "(891,)\n"
     ]
    }
   ],
   "source": [
    "def process_data(df):\n",
    "    df = df.drop(columns=[\"PassengerId\", \"Name\", \"Ticket\"]) \n",
    "    # ^^ dropped because i don't know how to deal with these...\n",
    "    # there's probably a way to get info from the ticket number though?\n",
    "\n",
    "    #replace missing values\n",
    "    replacements = {\"Pclass\":df['Pclass'].median(),\n",
    "                    \"Sex\": \"n\",\n",
    "                    \"Age\": df['Age'].median(),\n",
    "                    \"SibSp\": df['SibSp'].mode()[0],\n",
    "                    \"Parch\": df['Parch'].mode()[0],\n",
    "                    \"Fare\": df['Fare'].mean(),\n",
    "                    \"Cabin\":\"unknown\",\n",
    "                    \"Embarked\":\"unknown\",\n",
    "                    }\n",
    "    \n",
    "    df = df.fillna(value=replacements)  #this doesn't modify inplace!\n",
    "\n",
    "    # Convert cabin to first letter \n",
    "    df['Cabin'] = df['Cabin'].map(lambda x: str(x)[0])\n",
    "    df['Sex'] = df['Sex'].map(lambda x: x[0])\n",
    "\n",
    "    # one-hot-encoding\n",
    "    df = pd.get_dummies(df, columns=['Sex', 'Cabin', \"Embarked\"])\n",
    "\n",
    "    return df\n",
    "\n",
    "train1 = process_data(train)\n",
    "test1 = process_data(test)\n",
    "labels = train1[\"Survived\"]\n",
    "train1 = train1.drop(columns = [\"Survived\"]) #This is y\n",
    "\n",
    "print(train1.head())\n",
    "# print(test1.head(3))\n",
    "# print(labels.head())\n",
    "print(train1.shape)\n",
    "print(test1.shape)\n",
    "print(labels.shape)"
   ]
  },
  {
   "cell_type": "markdown",
   "id": "3440473d",
   "metadata": {},
   "source": [
    "**Scaling**"
   ]
  },
  {
   "cell_type": "code",
   "execution_count": 46,
   "id": "7cc6a687",
   "metadata": {},
   "outputs": [],
   "source": [
    "\n",
    "from sklearn.preprocessing import StandardScaler\n",
    "scalar_age = StandardScaler() \n",
    "scalar_fare = StandardScaler() #need two seperate scalars!\n",
    "train2 = train1\n",
    "test2 = test1\n",
    "train2[\"Age\"] = scalar_age.fit_transform(train1[[\"Age\"]])\n",
    "train2[\"Fare\"] = scalar_fare.fit_transform(train1[[\"Fare\"]])\n",
    "test2[\"Age\"] = scalar_age.transform(test1[[\"Age\"]])\n",
    "test2[\"Fare\"] = scalar_fare.transform(test1[[\"Fare\"]])\n",
    "# print(train2, test2)\n",
    "# print(train2[\"Age\"].shape)"
   ]
  },
  {
   "cell_type": "code",
   "execution_count": 51,
   "id": "56b35173",
   "metadata": {},
   "outputs": [
    {
     "name": "stdout",
     "output_type": "stream",
     "text": [
      "   Pclass       Age  SibSp  Parch      Fare  Sex_f  Sex_m  Cabin_A  Cabin_B  \\\n",
      "0       3 -0.565736      1      0 -0.502445  False   True    False    False   \n",
      "\n",
      "   Cabin_C  Cabin_D  Cabin_E  Cabin_F  Cabin_G  Cabin_T  Cabin_u  Embarked_C  \\\n",
      "0    False    False    False    False    False    False     True       False   \n",
      "\n",
      "   Embarked_Q  Embarked_S  Embarked_unknown  \n",
      "0       False        True             False  \n",
      "0    0\n",
      "1    1\n",
      "2    1\n",
      "3    1\n",
      "4    0\n",
      "Name: Survived, dtype: int64\n",
      "   Pclass       Age  SibSp  Parch      Fare  Sex_f  Sex_m  Cabin_A  Cabin_B  \\\n",
      "0       3  0.394887      0      0 -0.490783  False   True    False    False   \n",
      "\n",
      "   Cabin_C  Cabin_D  Cabin_E  Cabin_F  Cabin_G  Cabin_u  Embarked_C  \\\n",
      "0    False    False    False    False    False     True       False   \n",
      "\n",
      "   Embarked_Q  Embarked_S  \n",
      "0        True       False  \n"
     ]
    }
   ],
   "source": [
    "y = labels\n",
    "X = train2\n",
    "Z = test2\n",
    "print(X.head(1))\n",
    "print(y.head(5))\n",
    "print(Z.head(1))"
   ]
  },
  {
   "cell_type": "markdown",
   "id": "71fa3c16",
   "metadata": {},
   "source": [
    "## Fitting to model"
   ]
  },
  {
   "cell_type": "markdown",
   "id": "ba20027c",
   "metadata": {},
   "source": [
    "### KNN"
   ]
  },
  {
   "cell_type": "code",
   "execution_count": 66,
   "id": "ada33556",
   "metadata": {},
   "outputs": [],
   "source": [
    "knn = KNeighborsRegressor()\n",
    "knn_mod = GridSearchCV(estimator = knn,\n",
    "             param_grid = {'n_neighbors': list(range(1, 20))})\n",
    "knn_mod.fit(X, y)\n",
    "results = pd.DataFrame(knn_mod.cv_results_)"
   ]
  },
  {
   "cell_type": "code",
   "execution_count": 71,
   "id": "db10e40e",
   "metadata": {},
   "outputs": [
    {
     "name": "stdout",
     "output_type": "stream",
     "text": [
      "[0, 1, 0, 0, 0, 0, 0, 0, 0, 0, 0, 0, 0, 0, 0, 1, 0, 0, 0, 0, 0, 0, 0, 0, 0, 0, 0, 0, 0, 0, 0, 1, 0, 0, 0, 0, 0, 0, 0, 0, 0, 0, 0, 0, 0, 0, 0, 0, 0, 0, 0, 0, 1, 0, 0, 0, 0, 0, 1, 0, 0, 1, 0, 0, 0, 0, 1, 0, 0, 0, 0, 0, 0, 0, 0, 0, 0, 0, 1, 0, 0, 0, 0, 0, 0, 0, 0, 0, 0, 0, 0, 0, 0, 0, 0, 0, 0, 0, 1, 0, 0, 0, 0, 0, 0, 0, 0, 0, 0, 0, 0, 0, 0, 0, 0, 0, 0, 0, 0, 0, 0, 0, 0, 1, 0, 0, 0, 0, 0, 0, 0, 0, 0, 0, 0, 0, 1, 0, 0, 0, 0, 0, 0, 0, 0, 0, 0, 0, 0, 0, 0, 0, 0, 0, 0, 0, 0, 0, 0, 0, 0, 0, 0, 0, 0, 0, 1, 0, 0, 0, 0, 0, 1, 0, 0, 0, 0, 0, 0, 0, 0, 0, 0, 0, 0, 0, 0, 0, 0, 0, 0, 0, 0, 1, 0, 0, 0, 0, 0, 0, 0, 0, 0, 0, 0, 0, 0, 0, 0, 0, 0, 0, 0, 0, 0, 1, 0, 0, 1, 0, 0, 0, 0, 0, 0, 0, 0, 0, 0, 0, 0, 0, 0, 0, 0, 0, 0, 0, 0, 0, 0, 0, 0, 0, 0, 0, 0, 1, 0, 0, 0, 0, 0, 0, 0, 0, 1, 1, 0, 1, 0, 0, 0, 0, 0, 0, 0, 0, 0, 1, 0, 0, 0, 0, 0, 1, 0, 0, 0, 0, 0, 0, 0, 0, 0, 0, 0, 0, 0, 0, 1, 1, 0, 0, 0, 0, 0, 0, 0, 0, 0, 0, 0, 0, 0, 0, 0, 0, 0, 1, 1, 0, 0, 0, 0, 0, 0, 0, 0, 1, 0, 0, 0, 0, 0, 1, 0, 0, 0, 0, 0, 0, 0, 0, 1, 0, 0, 1, 0, 0, 1, 0, 0, 0, 0, 0, 0, 0, 0, 0, 0, 0, 0, 0, 0, 0, 1, 0, 0, 0, 0, 0, 0, 0, 0, 0, 1, 0, 0, 0, 0, 0, 0, 0, 0, 0, 0, 0, 0, 0, 0, 0, 0, 0, 0, 0, 0, 0, 0, 0, 0, 0, 0, 1, 0, 0, 0, 0, 0, 0, 0, 0, 0, 0, 0, 0, 0, 0, 0, 0, 0, 0, 1, 0, 0, 0, 0, 0, 0, 0, 0, 0, 0, 0, 0, 0, 0, 0, 0, 0, 0, 0, 0, 0, 0, 0, 0, 0, 0, 0, 0, 0, 0, 0, 0, 0, 1, 0, 0, 0, 0, 0, 0, 0, 0, 0, 0, 0, 0, 0, 0, 0, 0, 0, 0, 0, 0, 0, 0, 0, 0, 0, 0, 0, 0, 0, 0, 0, 0, 0, 0, 0, 0, 0, 0, 0, 0, 0, 0, 0, 0, 0, 0, 0, 0, 0, 1, 0, 0, 0, 0, 0, 0, 0, 1, 0, 0, 0, 0, 0, 0, 0, 0, 0, 0, 0, 1, 0, 0, 0, 1, 0, 0, 0, 0, 0, 0, 0, 0, 0, 1, 0, 0, 0, 0, 0, 0, 1, 0, 1, 1, 0, 0, 0, 0, 0, 0, 0, 0, 0, 0, 0, 0, 0, 0, 0, 0, 0, 0, 0, 0, 0, 0, 0, 0, 0, 0, 0, 0, 0, 0, 0, 0, 0, 0, 0, 0, 0, 0, 0, 0, 0, 0, 0, 0, 1, 0, 0, 0, 0, 0, 1, 0, 0, 0, 0, 0, 0, 0, 0, 0, 0, 0, 0, 0, 0, 0, 0, 0, 0, 0, 0, 0, 0, 0, 0, 0, 0, 0, 0, 0, 0, 0, 0, 0, 0, 0, 1, 0, 0, 0, 0, 0, 0, 0, 0, 0, 0, 0, 0, 0, 0, 0, 0, 0, 0, 0, 0, 0, 0, 0, 1, 0, 0, 0, 0, 0, 0, 0, 0, 0, 0, 0, 0, 0, 0, 0, 0, 0, 0, 0, 0, 0, 0, 0, 0, 0, 0, 0, 0, 0, 0, 0, 0, 0, 0, 0, 0, 0, 0, 0, 0, 0, 0, 0, 0, 0, 0, 0, 0, 0, 0, 0, 0, 0, 0, 0, 0, 1, 0, 1, 0, 0, 0, 0, 0, 0, 0, 0, 0, 1, 0, 0, 0, 0, 0, 0, 0, 0, 0, 0, 0, 0, 0, 0, 0, 0, 0, 0, 0, 0, 0, 0, 0, 0, 0, 0, 0, 0, 0, 1, 0, 0, 0, 0, 1, 0, 0, 0, 1, 0, 0, 0, 0, 0, 1, 0, 0, 0, 0, 0, 0, 0, 0, 0, 0, 0, 0, 0, 1, 0, 1, 0, 0, 0, 0, 0, 0, 1, 0, 0, 0, 0, 0, 0, 0, 0, 0, 0, 0, 0, 0, 0, 0, 0, 0, 0, 0, 0, 1, 0, 0, 0, 0, 0, 0, 0, 0, 0, 0, 0, 0, 0, 0, 0, 0, 0, 1, 0, 0, 0, 1, 0, 0, 0, 1, 0, 0, 0, 0, 0, 0, 0, 0, 0, 0, 0, 0, 0, 1, 0, 0, 0, 0, 0, 0, 1, 0, 0, 0, 0, 0, 0, 0, 0, 0, 0, 0, 0, 0, 0, 1, 0, 0, 0, 0, 0, 0, 0, 0, 0, 0, 0, 0, 0, 0, 0, 0, 0, 0, 0] 0    0\n",
      "1    1\n",
      "2    1\n",
      "3    1\n",
      "4    0\n",
      "Name: Survived, dtype: int64\n"
     ]
    }
   ],
   "source": [
    "# results[[\"param_n_neighbors\",\"rank_test_score\"]]\n",
    "# best results when k=8\n",
    "pred = knn_mod.predict(X)\n",
    "pred = [int(x) for x in pred]\n",
    "print(pred, y.head())"
   ]
  },
  {
   "cell_type": "code",
   "execution_count": 75,
   "id": "881120cb",
   "metadata": {},
   "outputs": [
    {
     "name": "stdout",
     "output_type": "stream",
     "text": [
      "The percentage accuracy is 68.80\n"
     ]
    }
   ],
   "source": [
    "#Accuracy\n",
    "correct = 0\n",
    "total = len(pred)\n",
    "for i in range(total-1):\n",
    "    if round(pred[i]) == y[i]:\n",
    "        correct += 1\n",
    "print(\"The percentage accuracy is\", f'{correct*100/total:.2f}')"
   ]
  },
  {
   "cell_type": "code",
   "execution_count": null,
   "id": "b8ae0840",
   "metadata": {},
   "outputs": [],
   "source": []
  }
 ],
 "metadata": {
  "kernelspec": {
   "display_name": "sklearn-env",
   "language": "python",
   "name": "python3"
  },
  "language_info": {
   "codemirror_mode": {
    "name": "ipython",
    "version": 3
   },
   "file_extension": ".py",
   "mimetype": "text/x-python",
   "name": "python",
   "nbconvert_exporter": "python",
   "pygments_lexer": "ipython3",
   "version": "3.13.2"
  }
 },
 "nbformat": 4,
 "nbformat_minor": 5
}
